{
 "cells": [
  {
   "cell_type": "code",
   "execution_count": 3,
   "id": "af5720cd",
   "metadata": {},
   "outputs": [],
   "source": [
    "import geopandas as gpd\n",
    "import pandas as pd\n",
    "import os,re,json\n",
    "import numpy as np\n",
    "from p_tqdm import p_map"
   ]
  },
  {
   "cell_type": "code",
   "execution_count": 4,
   "id": "fd09d944",
   "metadata": {},
   "outputs": [],
   "source": [
    "\n",
    "# pip install mbutil"
   ]
  },
  {
   "cell_type": "code",
   "execution_count": 48,
   "id": "29be765b",
   "metadata": {},
   "outputs": [],
   "source": [
    "# name, areas, centroids, min, max\n",
    "path = '/Users/danielellis/Desktop/ONS Geography/'\n",
    "\n",
    "inputs = [\n",
    "    ['OA'  ,path+'GeoJSON/ons-oa11-bgc.geojson',path+'Raw/Centroids/Output_Areas__December_2011__Population_Weighted_Centroids-shp',1,5],\n",
    "    ['msoa',path+'GeoJSON/ons-msoa11-bgc.geojson',path+'Raw/Centroids/Middle_Layer_Super_Output_Areas__December_2011__Population_Weighted_Centroids-shp',6,8],\n",
    "    ['lsoa',path+'GeoJSON/ons-lsoa11-bgc.geojson',path+'Raw/Centroids/Lower_Layer_Super_Output_Areas__December_2011__Population_Weighted_Centroids-shp',9,14]\n",
    "]\n",
    "\n"
   ]
  },
  {
   "cell_type": "code",
   "execution_count": 50,
   "id": "68e3d1bf",
   "metadata": {},
   "outputs": [],
   "source": [
    "# gpd.read_file(inputs[1][2])\n",
    "# gen_set(inputs[0])"
   ]
  },
  {
   "cell_type": "code",
   "execution_count": 81,
   "id": "dd4402c9",
   "metadata": {},
   "outputs": [],
   "source": [
    "\n",
    "def gen_set(x):\n",
    "    '''\n",
    "    function to generate sets of results in parallel. \n",
    "    '''\n",
    "    \n",
    "    print(x)\n",
    "    name, area, centroids, start, end = x\n",
    "    year = '11'\n",
    "    cd= 'CD'\n",
    "    if name != 'OA': \n",
    "        cd = 'cd'\n",
    "\n",
    "    # area     \n",
    "    base  = gpd.read_file(area)[['areacd','geometry']]\n",
    "    base.columns = ['id','geometry']\n",
    "    \n",
    "    # centroids     \n",
    "    centroids = gpd.read_file(centroids)[['%s'%(name+year+cd), 'geometry']]\n",
    "    centroids.columns = ['id','geometry']\n",
    "\n",
    "    print('save',name)\n",
    "    base.to_file(\"tmp/%s.geojson\"%(year+name), driver=\"GeoJSON\")\n",
    "    centroids.to_file(\"tmp/centroids%s.geojson\"%(year+name), driver=\"GeoJSON\")\n",
    "\n",
    "    print('process',name)\n",
    "\n",
    "    # cant have centroids being grouped, but fine for area shapes\n",
    "    os.popen('tippecanoe -Q -Z%d -z%d -f --gamma=0 --no-feature-limit --no-tile-size-limit -r1 -o tiles/centroids%s.mbtiles  ./tmp/centroids%s.geojson -L centroids'%(start,end,year+name,year+name))\n",
    "    os.popen('tippecanoe -Q -Z%d -z%d -f -ab -o tiles/outputarea%s.mbtiles --drop-densest-as-needed --generate-id ./tmp/%s.geojson -L areas'%(start,end,year+name,year+name))\n",
    "\n",
    "\n",
    "    print('join',name)\n",
    "    os.popen('tile-join -o ./tiles/%s.mbtiles -f ./tiles/centroids%s.mbtiles ./tiles/outputarea%s.mbtiles'%(name,year+name,year+name))\n",
    "\n",
    "    return './tiles/%s.mbtiles'%name"
   ]
  },
  {
   "cell_type": "code",
   "execution_count": null,
   "id": "f6660a79",
   "metadata": {},
   "outputs": [
    {
     "name": "stdout",
     "output_type": "stream",
     "text": [
      "['OA', '/Users/danielellis/Desktop/ONS Geography/GeoJSON/ons-oa11-bgc.geojson', '/Users/danielellis/Desktop/ONS Geography/Raw/Centroids/Output_Areas__December_2011__Population_Weighted_Centroids-shp', 1, 5]['msoa', '/Users/danielellis/Desktop/ONS Geography/GeoJSON/ons-msoa11-bgc.geojson', '/Users/danielellis/Desktop/ONS Geography/Raw/Centroids/Middle_Layer_Super_Output_Areas__December_2011__Population_Weighted_Centroids-shp', 6, 8]['lsoa', '/Users/danielellis/Desktop/ONS Geography/GeoJSON/ons-lsoa11-bgc.geojson', '/Users/danielellis/Desktop/ONS Geography/Raw/Centroids/Lower_Layer_Super_Output_Areas__December_2011__Population_Weighted_Centroids-shp', 9, 14]\n"
     ]
    },
    {
     "data": {
      "application/vnd.jupyter.widget-view+json": {
       "model_id": "20570e02b6e54f7b938c098e842f1fbb",
       "version_major": 2,
       "version_minor": 0
      },
      "text/plain": [
       "  0%|          | 0/3 [00:00<?, ?it/s]"
      ]
     },
     "metadata": {},
     "output_type": "display_data"
    },
    {
     "name": "stdout",
     "output_type": "stream",
     "text": [
      "\n",
      "\n",
      "save msoa\n",
      "process msoa\n",
      "join msoa\n"
     ]
    },
    {
     "name": "stderr",
     "output_type": "stream",
     "text": [
      "tippecanoe: -L requires layername:file\n",
      "tippecanoe: -L requires layername:file\n",
      "6/30/21  \r"
     ]
    },
    {
     "name": "stdout",
     "output_type": "stream",
     "text": [
      "save lsoa\n",
      "process lsoa\n",
      "join lsoa\n"
     ]
    },
    {
     "name": "stderr",
     "output_type": "stream",
     "text": [
      "tippecanoe: -L requires layername:file\n",
      "tippecanoe: -L requires layername:file\n",
      "14/8219/5464  \r"
     ]
    }
   ],
   "source": [
    "fs = p_map(gen_set, inputs)"
   ]
  },
  {
   "cell_type": "code",
   "execution_count": 77,
   "id": "e4952f58",
   "metadata": {},
   "outputs": [
    {
     "data": {
      "text/plain": [
       "'./tiles/OA.mbtiles ./tiles/msoa.mbtiles ./tiles/lsoa.mbtiles'"
      ]
     },
     "execution_count": 77,
     "metadata": {},
     "output_type": "execute_result"
    }
   ],
   "source": [
    "\n",
    "' '.join(fs)"
   ]
  },
  {
   "cell_type": "code",
   "execution_count": 78,
   "id": "48462283",
   "metadata": {},
   "outputs": [
    {
     "data": {
      "text/plain": [
       "0"
      ]
     },
     "execution_count": 78,
     "metadata": {},
     "output_type": "execute_result"
    }
   ],
   "source": [
    "# merge\n",
    "os.system('tile-join -o ./tiles/merged.mbtiles -f %s --attribution=ONS'%' '.join(fs[:2]))"
   ]
  },
  {
   "cell_type": "code",
   "execution_count": null,
   "id": "fa0d0c6e",
   "metadata": {},
   "outputs": [],
   "source": []
  },
  {
   "cell_type": "code",
   "execution_count": 79,
   "id": "732f1266",
   "metadata": {},
   "outputs": [
    {
     "name": "stdout",
     "output_type": "stream",
     "text": [
      "gzip -d -r -S .pbf ./metadata.json\n",
      "gzip: ./metadata.json: unknown suffix -- ignored\n",
      "mv ./metadata.json ./metadata.json.pbf\n"
     ]
    },
    {
     "name": "stderr",
     "output_type": "stream",
     "text": [
      "DEBUG:mbutil.util:Exporting MBTiles to disk\n",
      "DEBUG:mbutil.util:./tiles/merged.mbtiles --> ./tiles/tileserver\n"
     ]
    },
    {
     "data": {
      "text/plain": [
       "0"
      ]
     },
     "execution_count": 79,
     "metadata": {},
     "output_type": "execute_result"
    }
   ],
   "source": [
    "## convert to static server\n",
    "\n",
    "os.system('rm -rf ./tiles/tileserver; mb-util --image_format=pbf ./tiles/merged.mbtiles ./tiles/tileserver')\n",
    "os.system('cd ./tiles/tileserver && find . -type f | xargs -n1 -P 1 -t -I % gzip -d -r -S .pbf % 2>&1')\n",
    "os.system('cd ./tiles/tileserver && find . -type f | xargs -n1 -P 1 -t -I % mv % %.pbf 2>&1')\n"
   ]
  },
  {
   "cell_type": "code",
   "execution_count": 80,
   "id": "a45b3a41",
   "metadata": {},
   "outputs": [
    {
     "name": "stdout",
     "output_type": "stream",
     "text": [
      "[main f5118706] recompute tiles\n",
      " 6 files changed, 23 insertions(+), 24 deletions(-)\n",
      " create mode 100644 tiles/centroids11OA.mbtiles-journal\n"
     ]
    },
    {
     "name": "stderr",
     "output_type": "stream",
     "text": [
      "./tmp/centroids11OA.geojson: Warning: GeoJSON specified projection \"urn:ogc:def:crs:EPSG::27700\", not the expected \"urn:ogc:def:crs:OGC:1.3:CRS84\".\n",
      "./tmp/centroids11OA.geojson: If \"urn:ogc:def:crs:OGC:1.3:CRS84\" is not the expected projection, use -s to specify the right one.\n",
      "181408 features, 3350686 bytes of geometry, 16 bytes of separate metadata, 1995492 bytes of string pool\n",
      "\n",
      "\n",
      "More than half the features were clipped away at zoom level 0.\n",
      "Is your data in the wrong projection? It should be in WGS84/EPSG:4326.\n",
      "\n",
      "To https://github.com/wolfiex/ONStileBuilder.git\n",
      "   865dfc14..f5118706  main -> main\n"
     ]
    },
    {
     "data": {
      "text/plain": [
       "0"
      ]
     },
     "execution_count": 80,
     "metadata": {},
     "output_type": "execute_result"
    },
    {
     "name": "stderr",
     "output_type": "stream",
     "text": [
      "181408 features, 17503784 bytes of geometry, 16 bytes of separate metadata, 1995492 bytes of string pool\n",
      "tile 4/7/5 size is 884891 with detail 12, >500000    \n",
      "Going to try keeping the sparsest 50.85% of the features to make it fit\n",
      "tile 4/7/5 size is 845192 with detail 12, >500000    \n",
      "Going to try keeping the sparsest 27.08% of the features to make it fit\n",
      "tile 4/7/5 size is 723971 with detail 12, >500000    \n",
      "Going to try keeping the sparsest 16.83% of the features to make it fit\n",
      "tile 4/7/5 size is 572276 with detail 12, >500000    \n",
      "Going to try keeping the sparsest 13.23% of the features to make it fit\n",
      "tile 5/15/10 size is 1849816 with detail 12, >500000    \n",
      "Going to try keeping the sparsest 24.33% of the features to make it fit\n",
      "tile 5/15/10 size is 1015727 with detail 12, >500000    \n",
      "Going to try keeping the sparsest 10.78% of the features to make it fit\n",
      "tile 5/15/10 size is 555750 with detail 12, >500000    \n",
      "Going to try keeping the sparsest 8.73% of the features to make it fit\n",
      "\n"
     ]
    }
   ],
   "source": [
    "os.system(\"git add -A; git commit -m 'recompute tiles'; git push\")"
   ]
  },
  {
   "cell_type": "code",
   "execution_count": null,
   "id": "5e4e06b1",
   "metadata": {},
   "outputs": [],
   "source": []
  },
  {
   "cell_type": "code",
   "execution_count": null,
   "id": "6c015343",
   "metadata": {},
   "outputs": [],
   "source": []
  },
  {
   "cell_type": "code",
   "execution_count": null,
   "id": "b43f2bd7",
   "metadata": {},
   "outputs": [],
   "source": []
  }
 ],
 "metadata": {
  "kernelspec": {
   "display_name": "Python 3 (ipykernel)",
   "language": "python",
   "name": "python3"
  },
  "language_info": {
   "codemirror_mode": {
    "name": "ipython",
    "version": 3
   },
   "file_extension": ".py",
   "mimetype": "text/x-python",
   "name": "python",
   "nbconvert_exporter": "python",
   "pygments_lexer": "ipython3",
   "version": "3.9.7"
  }
 },
 "nbformat": 4,
 "nbformat_minor": 5
}
