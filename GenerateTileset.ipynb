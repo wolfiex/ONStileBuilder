{
 "cells": [
  {
   "cell_type": "code",
   "execution_count": 1,
   "id": "af5720cd",
   "metadata": {},
   "outputs": [],
   "source": [
    "import geopandas as gpd\n",
    "import pandas as pd\n",
    "import os,re,json\n",
    "import numpy as np\n",
    "from p_tqdm import p_map"
   ]
  },
  {
   "cell_type": "code",
   "execution_count": 2,
   "id": "fd09d944",
   "metadata": {},
   "outputs": [],
   "source": [
    "\n",
    "# pip install mbutil"
   ]
  },
  {
   "cell_type": "code",
   "execution_count": 3,
   "id": "29be765b",
   "metadata": {},
   "outputs": [
    {
     "name": "stderr",
     "output_type": "stream",
     "text": [
      "tippecanoe: tiles/countries.mbtilestmp/county.geojson: unable to open database file\n"
     ]
    },
    {
     "data": {
      "text/plain": [
       "256"
      ]
     },
     "execution_count": 3,
     "metadata": {},
     "output_type": "execute_result"
    }
   ],
   "source": [
    "# lets generate the overview pictures \n",
    "#\n",
    "floc = \"tmp/county.geojson\"\n",
    "# gpd.read_file('data/CountiesUA.geojson')[['OBJECTID', 'CTYUA20CD', 'CTYUA20NM','LONG', 'LAT', 'geometry']].to_file(floc, driver=\"GeoJSON\")\n",
    "\n",
    "gdf = gpd.read_file('data/CountiesUA.geojson')[['CTYUA20CD', 'geometry']]\n",
    "gdf.columns = ['id','geometry']\n",
    "gdf.to_file(floc, driver=\"GeoJSON\")\n",
    "\n",
    "\n",
    "os.system('tippecanoe --read-parallel -Q -P -Z0 -z6 -f -o tiles/countries.mbtiles'+ floc)\n"
   ]
  },
  {
   "cell_type": "code",
   "execution_count": 4,
   "id": "68e3d1bf",
   "metadata": {},
   "outputs": [
    {
     "data": {
      "text/html": [
       "<div>\n",
       "<style scoped>\n",
       "    .dataframe tbody tr th:only-of-type {\n",
       "        vertical-align: middle;\n",
       "    }\n",
       "\n",
       "    .dataframe tbody tr th {\n",
       "        vertical-align: top;\n",
       "    }\n",
       "\n",
       "    .dataframe thead th {\n",
       "        text-align: right;\n",
       "    }\n",
       "</style>\n",
       "<table border=\"1\" class=\"dataframe\">\n",
       "  <thead>\n",
       "    <tr style=\"text-align: right;\">\n",
       "      <th></th>\n",
       "      <th>id</th>\n",
       "      <th>geometry</th>\n",
       "    </tr>\n",
       "  </thead>\n",
       "  <tbody>\n",
       "    <tr>\n",
       "      <th>0</th>\n",
       "      <td>E06000001</td>\n",
       "      <td>POLYGON ((-1.27025 54.72717, -1.26822 54.72609...</td>\n",
       "    </tr>\n",
       "    <tr>\n",
       "      <th>1</th>\n",
       "      <td>E06000002</td>\n",
       "      <td>MULTIPOLYGON (((-1.19752 54.58211, -1.19434 54...</td>\n",
       "    </tr>\n",
       "    <tr>\n",
       "      <th>2</th>\n",
       "      <td>E06000003</td>\n",
       "      <td>MULTIPOLYGON (((-1.20098 54.57763, -1.20030 54...</td>\n",
       "    </tr>\n",
       "    <tr>\n",
       "      <th>3</th>\n",
       "      <td>E06000004</td>\n",
       "      <td>MULTIPOLYGON (((-1.27113 54.55427, -1.27213 54...</td>\n",
       "    </tr>\n",
       "    <tr>\n",
       "      <th>4</th>\n",
       "      <td>E06000005</td>\n",
       "      <td>POLYGON ((-1.63800 54.61720, -1.63767 54.61670...</td>\n",
       "    </tr>\n",
       "  </tbody>\n",
       "</table>\n",
       "</div>"
      ],
      "text/plain": [
       "          id                                           geometry\n",
       "0  E06000001  POLYGON ((-1.27025 54.72717, -1.26822 54.72609...\n",
       "1  E06000002  MULTIPOLYGON (((-1.19752 54.58211, -1.19434 54...\n",
       "2  E06000003  MULTIPOLYGON (((-1.20098 54.57763, -1.20030 54...\n",
       "3  E06000004  MULTIPOLYGON (((-1.27113 54.55427, -1.27213 54...\n",
       "4  E06000005  POLYGON ((-1.63800 54.61720, -1.63767 54.61670..."
      ]
     },
     "execution_count": 4,
     "metadata": {},
     "output_type": "execute_result"
    }
   ],
   "source": [
    "#  gpd.read_file('data/centroids2001.geojson').columns\n",
    "gdf.head()\n"
   ]
  },
  {
   "cell_type": "code",
   "execution_count": null,
   "id": "dd4402c9",
   "metadata": {},
   "outputs": [
    {
     "name": "stdout",
     "output_type": "stream",
     "text": [
      "save\n",
      "process\n"
     ]
    },
    {
     "name": "stderr",
     "output_type": "stream",
     "text": [
      "For layer 0, using name \"centroids01\"\n",
      "./tmp/centroids01.geojson:10944: Found ] at top level\n",
      "./tmp/centroids01.geojson:10930: Reached EOF without all containers being closed\n",
      "In JSON object {\"type\":\"FeatureCollection\",\"crs\":{\"type\":\"name\",\"properties\":{\"name\":\"urn:ogc:def:crs:OGC:1.3:CRS84\"}},\"features\":[]}\n",
      "175434 features, 3073223 bytes of geometry, 16 bytes of separate metadata, 1929902 bytes of string pool\n",
      "\n",
      "For layer 0, using name \"OA01\"\n",
      "./tmp/OA01.geojson:23385: Reached EOF without all containers being closed\n",
      "In JSON object {\"type\":\"FeatureCollection\",\"crs\":{\"type\":\"name\",\"properties\":{\"name\":\"urn:ogc:def:crs:OGC:1.3:CRS84\"}},\"features\":[]}\n",
      "./tmp/OA01.geojson:9195: Found ] at top level\n",
      "175434 features, 50496870 bytes of geometry, 895 bytes of separate metadata, 1929838 bytes of string pool\n",
      "tile 6/32/21 size is 626726 with detail 12, >500000    \n",
      "Going to try keeping the sparsest 71.80% of the features to make it fit\n",
      "tile 6/32/21 size is 518544 with detail 12, >500000    \n",
      "Going to try keeping the sparsest 62.31% of the features to make it fit\n",
      "tile 6/31/20 size is 1900478 with detail 12, >500000    \n",
      "Going to try keeping the sparsest 23.68% of the features to make it fit\n",
      "tile 6/31/21 size is 1959287 with detail 12, >500000    \n",
      "Going to try keeping the sparsest 22.97% of the features to make it fit\n",
      "tile 6/31/20 size is 649688 with detail 12, >500000    \n",
      "Going to try keeping the sparsest 16.40% of the features to make it fit\n",
      "tile 6/31/21 size is 707817 with detail 12, >500000    \n",
      "Going to try keeping the sparsest 14.60% of the features to make it fit\n",
      "tile 6/31/21 size is 506389 with detail 12, >500000    \n",
      "Going to try keeping the sparsest 12.98% of the features to make it fit\n",
      "tile 7/64/42 size is 803739 with detail 12, >500000    \n",
      "Going to try keeping the sparsest 55.99% of the features to make it fit\n",
      "tile 7/64/42 size is 520536 with detail 12, >500000    \n",
      "Going to try keeping the sparsest 48.40% of the features to make it fit\n",
      "tile 7/63/41 size is 1820438 with detail 12, >500000    \n",
      "Going to try keeping the sparsest 24.72% of the features to make it fit\n",
      "tile 7/63/42 size is 2106096 with detail 12, >500000    \n",
      "Going to try keeping the sparsest 21.37% of the features to make it fit\n",
      "tile 7/63/41 size is 606337 with detail 12, >500000    \n",
      "Going to try keeping the sparsest 18.35% of the features to make it fit\n",
      "tile 7/63/42 size is 659339 with detail 12, >500000    \n",
      "Going to try keeping the sparsest 14.58% of the features to make it fit\n",
      "tile 8/126/84 size is 516134 with detail 12, >500000    \n",
      "Going to try keeping the sparsest 87.19% of the features to make it fit\n",
      "tile 8/127/84 size is 616456 with detail 12, >500000    \n",
      "Going to try keeping the sparsest 73.00% of the features to make it fit\n",
      "tile 8/128/85 size is 619726 with detail 12, >500000    \n",
      "Going to try keeping the sparsest 72.61% of the features to make it fit\n",
      "tile 8/126/83 size is 664480 with detail 12, >500000    \n",
      "Going to try keeping the sparsest 67.72% of the features to make it fit\n",
      "tile 8/126/82 size is 952751 with detail 12, >500000    \n",
      "Going to try keeping the sparsest 47.23% of the features to make it fit\n",
      "tile 8/127/85 size is 1234376 with detail 12, >500000    \n",
      "Going to try keeping the sparsest 36.46% of the features to make it fit\n",
      "tile 8/126/82 size is 504206 with detail 12, >500000    \n",
      "Going to try keeping the sparsest 42.15% of the features to make it fit\n",
      "tile 8/127/85 size is 539621 with detail 12, >500000    \n",
      "Going to try keeping the sparsest 30.40% of the features to make it fit\n"
     ]
    }
   ],
   "source": [
    "year = '01'\n",
    "\n",
    "base  = gpd.read_file('data/OA2001.geojson')[['OA01CD', 'geometry']]\n",
    "base.columns = ['id','geometry']\n",
    "centroids = gpd.read_file('data/centroids2001.geojson')[['OA01CD','geometry']]\n",
    "\n",
    "print('save')\n",
    "base.to_file(\"tmp/OA%s.geojson\"%year, driver=\"GeoJSON\")\n",
    "centroids.to_file(\"tmp/centroids%s.geojson\"%year, driver=\"GeoJSON\")\n",
    "\n",
    "print('process')\n",
    "start = 6\n",
    "end = 12\n",
    "# cant have centroids being grouped, but fine for area shapes\n",
    "os.system('tippecanoe --read-parallel -Q -Z%d -z%d -f --gamma=0 --no-feature-limit --no-tile-size-limit -r1 -o tiles/centroids%s.mbtiles  ./tmp/centroids%s.geojson'%(start,end,year,year))\n",
    "os.system('tippecanoe --read-parallel -Q -Z%d -z%d -f -ab -o tiles/outputarea%s.mbtiles --drop-densest-as-needed --generate-id ./tmp/OA%s.geojson'%(start,end,year,year))\n",
    "\n",
    "\n",
    "\n",
    "print('join')\n",
    "os.system('tile-join -Q -P -o ./tiles/area_centroids_6_9.mbtiles -f ./tiles/centroids%s.mbtiles ./tiles/outputarea%s.mbtiles'%(year,year))\n",
    "\n",
    "# --generate-id\n",
    "# --coalesce-densest-as-needed\n",
    "\n",
    "# tippecanoe -o tiles/test.mbtiles -Z9 -z10 -f ./data/tile_OA11.geojson ./data/tile_centroids11.geojson\n",
    "\n",
    "\n",
    "# gdf_base = gdf_base.append(df,ignore_index=True)\n",
    "# gdf_base .to_file(\"myfile.gpkg\", layer=\"layer1\", driver=\"GPKG\")"
   ]
  },
  {
   "cell_type": "code",
   "execution_count": null,
   "id": "e4952f58",
   "metadata": {},
   "outputs": [],
   "source": [
    "# base  = gpd.read_file('data/OA2011.geojson')[['OA01CD', 'LAD01CD',\n",
    "#        'geometry']]\n",
    "# centroids = gpd.read_file('data/centroids2011.geojson')[['lsoa01cd', 'geometry']]\n",
    "\n",
    "# base.to_file(\"tmp/OA11.geojson\", driver=\"GeoJSON\")\n",
    "# centroids.to_file(\"tmp/centroids11.geojson\", driver=\"GeoJSON\")\n",
    "\n",
    "# os.system('tippecanoe -Z6 -z9 -f -o tiles/area_centroids_6_9.mbtiles --coalesce-densest-as-needed --generate-id ./tmp/OA%d.geojson ./tmp/centroids%d.geojson'%(11,11))\n",
    "\n",
    "\n"
   ]
  },
  {
   "cell_type": "code",
   "execution_count": null,
   "id": "48462283",
   "metadata": {},
   "outputs": [],
   "source": [
    "# merge\n",
    "os.system('tile-join -o ./tiles/merged.mbtiles -Q -P -f ./tiles/countries.mbtiles ./tiles/area_centroids_6_9.mbtiles --attribution=ONS')"
   ]
  },
  {
   "cell_type": "code",
   "execution_count": null,
   "id": "fa0d0c6e",
   "metadata": {},
   "outputs": [],
   "source": [
    "# tippecanoe -z3 -o countries-z3.mbtiles --coalesce-densest-as-needed ne_10m_admin_0_countries.geojson\n",
    "# tippecanoe -zg -Z4 -o states-Z4.mbtiles --coalesce-densest-as-needed --extend-zooms-if-still-dropping ne_10m_admin_1_states_provinces.geojson\n",
    "# tile-join -o states-countries.mbtiles countries-z3.mbtiles states-Z4.mbtiles"
   ]
  },
  {
   "cell_type": "code",
   "execution_count": null,
   "id": "732f1266",
   "metadata": {},
   "outputs": [],
   "source": [
    "## convert to static server\n",
    "\n",
    "os.system('rm -rf ./tiles/tileserver; mb-util --image_format=pbf ./tiles/merged.mbtiles ./tiles/tileserver')\n",
    "os.system('cd ./tiles/tileserver && find . -type f | xargs -n1 -P 1 -t -I % gzip -d -r -S .pbf % 2>&1')\n",
    "os.system('cd ./tiles/tileserver && find . -type f | xargs -n1 -P 1 -t -I % mv % %.pbf 2>&1')\n"
   ]
  },
  {
   "cell_type": "code",
   "execution_count": null,
   "id": "a45b3a41",
   "metadata": {},
   "outputs": [],
   "source": [
    "os.system(\"git add -A; git commit -m 'recompute tiles'; git push\")"
   ]
  },
  {
   "cell_type": "code",
   "execution_count": null,
   "id": "5e4e06b1",
   "metadata": {},
   "outputs": [],
   "source": []
  },
  {
   "cell_type": "code",
   "execution_count": null,
   "id": "faa57e79",
   "metadata": {},
   "outputs": [],
   "source": []
  }
 ],
 "metadata": {
  "kernelspec": {
   "display_name": "Python 3 (ipykernel)",
   "language": "python",
   "name": "python3"
  },
  "language_info": {
   "codemirror_mode": {
    "name": "ipython",
    "version": 3
   },
   "file_extension": ".py",
   "mimetype": "text/x-python",
   "name": "python",
   "nbconvert_exporter": "python",
   "pygments_lexer": "ipython3",
   "version": "3.9.7"
  }
 },
 "nbformat": 4,
 "nbformat_minor": 5
}
