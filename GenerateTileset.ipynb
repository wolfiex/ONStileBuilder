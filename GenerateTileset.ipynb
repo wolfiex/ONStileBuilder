{
 "cells": [
  {
   "cell_type": "code",
   "execution_count": 1,
   "id": "af5720cd",
   "metadata": {},
   "outputs": [],
   "source": [
    "import geopandas as gpd\n",
    "import pandas as pd\n",
    "import os,re,json\n",
    "import numpy as np\n",
    "from p_tqdm import p_map"
   ]
  },
  {
   "cell_type": "code",
   "execution_count": 2,
   "id": "fd09d944",
   "metadata": {},
   "outputs": [],
   "source": [
    "\n",
    "# pip install mbutil"
   ]
  },
  {
   "cell_type": "code",
   "execution_count": 21,
   "id": "29be765b",
   "metadata": {},
   "outputs": [
    {
     "name": "stderr",
     "output_type": "stream",
     "text": [
      "tippecanoe: tiles/countries.mbtilestmp/county.geojson: unable to open database file\n"
     ]
    },
    {
     "data": {
      "text/plain": [
       "256"
      ]
     },
     "execution_count": 21,
     "metadata": {},
     "output_type": "execute_result"
    }
   ],
   "source": [
    "# lets generate the overview pictures \n",
    "#\n",
    "floc = \"tmp/county.geojson\"\n",
    "gpd.read_file('data/CountiesUA.geojson')[['OBJECTID', 'CTYUA20CD', 'CTYUA20NM','LONG', 'LAT', 'geometry']].to_file(floc, driver=\"GeoJSON\")\n",
    "\n",
    "os.system('tippecanoe -Z0 -z6 -f -o tiles/countries.mbtiles'+ floc)\n"
   ]
  },
  {
   "cell_type": "code",
   "execution_count": 30,
   "id": "68e3d1bf",
   "metadata": {},
   "outputs": [
    {
     "data": {
      "text/plain": [
       "Index(['OBJECTID', 'OA01CD', 'OA01CDOLD', 'geometry'], dtype='object')"
      ]
     },
     "execution_count": 30,
     "metadata": {},
     "output_type": "execute_result"
    }
   ],
   "source": [
    " gpd.read_file('data/centroids2001.geojson').columns\n",
    "    \n"
   ]
  },
  {
   "cell_type": "code",
   "execution_count": 32,
   "id": "dd4402c9",
   "metadata": {},
   "outputs": [
    {
     "name": "stderr",
     "output_type": "stream",
     "text": [
      "For layer 0, using name \"centroids01\"\n",
      "175434 features, 3178644 bytes of geometry, 16 bytes of separate metadata, 1929782 bytes of string pool\n",
      "  99.9%  12/2027/1319  \n",
      "For layer 0, using name \"OA01\"\n",
      "175434 features, 50384833 bytes of geometry, 1041 bytes of separate metadata, 1929782 bytes of string pool\n",
      "tile 6/32/21 size is 533433 with detail 12, >500000    \n",
      "Going to try keeping the sparsest 84.36% of the features to make it fit\n",
      "tile 6/31/20 size is 1590858 with detail 12, >500000    \n",
      "Going to try keeping the sparsest 28.29% of the features to make it fit\n",
      "tile 6/31/21 size is 1658288 with detail 12, >500000    \n",
      "Going to try keeping the sparsest 27.14% of the features to make it fit\n",
      "tile 6/31/20 size is 663640 with detail 12, >500000    \n",
      "Going to try keeping the sparsest 19.18% of the features to make it fit\n",
      "tile 6/31/21 size is 720835 with detail 12, >500000    \n",
      "Going to try keeping the sparsest 16.94% of the features to make it fit\n",
      "tile 6/31/20 size is 505678 with detail 12, >500000    \n",
      "Going to try keeping the sparsest 17.07% of the features to make it fit\n",
      "tile 6/31/21 size is 515884 with detail 12, >500000    \n",
      "Going to try keeping the sparsest 14.78% of the features to make it fit\n",
      "tile 7/64/42 size is 687375 with detail 12, >500000    \n",
      "Going to try keeping the sparsest 65.47% of the features to make it fit\n",
      "tile 7/64/42 size is 513341 with detail 12, >500000    \n",
      "Going to try keeping the sparsest 57.39% of the features to make it fit\n",
      "tile 7/63/41 size is 1547284 with detail 12, >500000    \n",
      "Going to try keeping the sparsest 29.08% of the features to make it fit\n",
      "tile 7/63/42 size is 1786286 with detail 12, >500000    \n",
      "Going to try keeping the sparsest 25.19% of the features to make it fit\n",
      "tile 7/63/41 size is 624937 with detail 12, >500000    \n",
      "Going to try keeping the sparsest 20.94% of the features to make it fit\n",
      "tile 7/63/42 size is 685441 with detail 12, >500000    \n",
      "Going to try keeping the sparsest 16.54% of the features to make it fit\n",
      "tile 7/63/42 size is 508330 with detail 12, >500000    \n",
      "Going to try keeping the sparsest 14.64% of the features to make it fit\n",
      "tile 8/127/84 size is 544806 with detail 12, >500000    \n",
      "Going to try keeping the sparsest 82.60% of the features to make it fit\n",
      "tile 8/128/85 size is 543162 with detail 12, >500000    \n",
      "Going to try keeping the sparsest 82.85% of the features to make it fit\n",
      "tile 8/126/83 size is 590842 with detail 12, >500000    \n",
      "Going to try keeping the sparsest 76.16% of the features to make it fit\n",
      "tile 8/126/82 size is 842520 with detail 12, >500000    \n",
      "Going to try keeping the sparsest 53.41% of the features to make it fit\n",
      "tile 8/127/85 size is 1071854 with detail 12, >500000    \n",
      "Going to try keeping the sparsest 41.98% of the features to make it fit\n",
      "tile 8/126/82 size is 511932 with detail 12, >500000    \n",
      "Going to try keeping the sparsest 46.95% of the features to make it fit\n",
      "tile 8/127/85 size is 555334 with detail 12, >500000    \n",
      "Going to try keeping the sparsest 34.02% of the features to make it fit\n",
      "tile 9/255/170 size is 820602 with detail 12, >500000    \n",
      "Going to try keeping the sparsest 54.84% of the features to make it fit\n",
      "tile 9/252/165 size is 506719 with detail 12, >500000    \n",
      "Going to try keeping the sparsest 88.81% of the features to make it fit\n",
      "tile 10/511/340 size is 576671 with detail 12, >500000    \n",
      "Going to try keeping the sparsest 78.03% of the features to make it fit\n",
      "  99.9%  12/2022/1333  \n",
      "Tile 9/255/170 size is 515176, >500000. Skipping this tile\n",
      "12/2064/1343  \r"
     ]
    },
    {
     "data": {
      "text/plain": [
       "0"
      ]
     },
     "execution_count": 32,
     "metadata": {},
     "output_type": "execute_result"
    }
   ],
   "source": [
    "year = '01'\n",
    "\n",
    "base  = gpd.read_file('data/OA2001.geojson')[['OA01CD', 'geometry']]\n",
    "centroids = gpd.read_file('data/centroids2001.geojson')[['OA01CD','geometry']]\n",
    "\n",
    "base.to_file(\"tmp/OA%s.geojson\"%year, driver=\"GeoJSON\")\n",
    "centroids.to_file(\"tmp/centroids%s.geojson\"%year, driver=\"GeoJSON\")\n",
    "\n",
    "start = 6\n",
    "end = 12\n",
    "# cant have centroids being grouped, but fine for area shapes\n",
    "os.system('tippecanoe -Z%d -z%d -f -o tiles/centroids%s.mbtiles  ./tmp/centroids%s.geojson'%(start,end,year,year))\n",
    "os.system('tippecanoe -Z%d -z%d -f -o tiles/outputarea%s.mbtiles --drop-densest-as-needed --generate-id ./tmp/OA%s.geojson'%(start,end,year,year))\n",
    "\n",
    "os.system('tile-join -o ./tiles/area_centroids_6_9.mbtiles -f ./tiles/centroids%s.mbtiles ./tiles/outputarea%s.mbtiles'%(year,year))\n",
    "\n",
    "# --generate-id\n",
    "# --coalesce-densest-as-needed\n",
    "\n",
    "# tippecanoe -o tiles/test.mbtiles -Z9 -z10 -f ./data/tile_OA11.geojson ./data/tile_centroids11.geojson\n",
    "\n",
    "\n",
    "# gdf_base = gdf_base.append(df,ignore_index=True)\n",
    "# gdf_base .to_file(\"myfile.gpkg\", layer=\"layer1\", driver=\"GPKG\")"
   ]
  },
  {
   "cell_type": "code",
   "execution_count": 33,
   "id": "e4952f58",
   "metadata": {},
   "outputs": [],
   "source": [
    "# base  = gpd.read_file('data/OA2011.geojson')[['OA01CD', 'LAD01CD',\n",
    "#        'geometry']]\n",
    "# centroids = gpd.read_file('data/centroids2011.geojson')[['lsoa01cd', 'geometry']]\n",
    "\n",
    "# base.to_file(\"tmp/OA11.geojson\", driver=\"GeoJSON\")\n",
    "# centroids.to_file(\"tmp/centroids11.geojson\", driver=\"GeoJSON\")\n",
    "\n",
    "# os.system('tippecanoe -Z6 -z9 -f -o tiles/area_centroids_6_9.mbtiles --coalesce-densest-as-needed --generate-id ./tmp/OA%d.geojson ./tmp/centroids%d.geojson'%(11,11))\n",
    "\n",
    "\n"
   ]
  },
  {
   "cell_type": "code",
   "execution_count": 34,
   "id": "48462283",
   "metadata": {},
   "outputs": [
    {
     "name": "stderr",
     "output_type": "stream",
     "text": [
      "Tile 6/31/21 size is 515469, >500000. Skipping this tile\n",
      "Warning: mismatched maxzooms: 12 in ./tiles/area_centroids_6_9.mbtiles vs previous 6\n"
     ]
    },
    {
     "data": {
      "text/plain": [
       "0"
      ]
     },
     "execution_count": 34,
     "metadata": {},
     "output_type": "execute_result"
    }
   ],
   "source": [
    "# merge\n",
    "os.system('tile-join -o ./tiles/merged.mbtiles -f ./tiles/countries.mbtiles ./tiles/area_centroids_6_9.mbtiles')"
   ]
  },
  {
   "cell_type": "code",
   "execution_count": 35,
   "id": "fa0d0c6e",
   "metadata": {},
   "outputs": [],
   "source": [
    "# tippecanoe -z3 -o countries-z3.mbtiles --coalesce-densest-as-needed ne_10m_admin_0_countries.geojson\n",
    "# tippecanoe -zg -Z4 -o states-Z4.mbtiles --coalesce-densest-as-needed --extend-zooms-if-still-dropping ne_10m_admin_1_states_provinces.geojson\n",
    "# tile-join -o states-countries.mbtiles countries-z3.mbtiles states-Z4.mbtiles"
   ]
  },
  {
   "cell_type": "code",
   "execution_count": null,
   "id": "732f1266",
   "metadata": {},
   "outputs": [],
   "source": [
    "## convert to static server\n",
    "\n",
    "os.system('rm -rf ./tiles/tileserver; mb-util --image_format=pbf ./tiles/merged.mbtiles ./tiles/tileserver')\n",
    "os.system('cd ./tiles/tileserver && find . -type f | xargs -n1 -P 1 -t -I % gzip -d -r -S .pbf %')\n",
    "os.system('cd ./tiles/tileserver && find . -type f | xargs -n1 -P 1 -t -I % mv % %.pbf')\n"
   ]
  },
  {
   "cell_type": "code",
   "execution_count": null,
   "id": "a45b3a41",
   "metadata": {},
   "outputs": [],
   "source": [
    "os.system(\"git add -A; git commit -m 'recompute tiles'; git push\")"
   ]
  },
  {
   "cell_type": "code",
   "execution_count": null,
   "id": "5e4e06b1",
   "metadata": {},
   "outputs": [],
   "source": []
  },
  {
   "cell_type": "code",
   "execution_count": null,
   "id": "bf3cfaa4",
   "metadata": {},
   "outputs": [],
   "source": []
  }
 ],
 "metadata": {
  "kernelspec": {
   "display_name": "Python 3 (ipykernel)",
   "language": "python",
   "name": "python3"
  },
  "language_info": {
   "codemirror_mode": {
    "name": "ipython",
    "version": 3
   },
   "file_extension": ".py",
   "mimetype": "text/x-python",
   "name": "python",
   "nbconvert_exporter": "python",
   "pygments_lexer": "ipython3",
   "version": "3.9.7"
  }
 },
 "nbformat": 4,
 "nbformat_minor": 5
}
