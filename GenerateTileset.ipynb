{
 "cells": [
  {
   "cell_type": "code",
   "execution_count": 1,
   "id": "af5720cd",
   "metadata": {},
   "outputs": [],
   "source": [
    "import geopandas as gpd\n",
    "import pandas as pd\n",
    "import os,re,json\n",
    "import numpy as np\n",
    "from p_tqdm import p_map"
   ]
  },
  {
   "cell_type": "code",
   "execution_count": 2,
   "id": "fd09d944",
   "metadata": {},
   "outputs": [],
   "source": [
    "\n",
    "# pip install mbutil"
   ]
  },
  {
   "cell_type": "code",
   "execution_count": 21,
   "id": "29be765b",
   "metadata": {},
   "outputs": [
    {
     "name": "stderr",
     "output_type": "stream",
     "text": [
      "tippecanoe: tiles/countries.mbtilestmp/county.geojson: unable to open database file\n"
     ]
    },
    {
     "data": {
      "text/plain": [
       "256"
      ]
     },
     "execution_count": 21,
     "metadata": {},
     "output_type": "execute_result"
    }
   ],
   "source": [
    "# lets generate the overview pictures \n",
    "#\n",
    "floc = \"tmp/county.geojson\"\n",
    "gpd.read_file('data/CountiesUA.geojson')[['OBJECTID', 'CTYUA20CD', 'CTYUA20NM','LONG', 'LAT', 'geometry']].to_file(floc, driver=\"GeoJSON\")\n",
    "\n",
    "os.system('tippecanoe -Z0 -z6 -f -o tiles/countries.mbtiles'+ floc)\n"
   ]
  },
  {
   "cell_type": "code",
   "execution_count": 30,
   "id": "68e3d1bf",
   "metadata": {},
   "outputs": [
    {
     "data": {
      "text/plain": [
       "Index(['OBJECTID', 'OA01CD', 'OA01CDOLD', 'geometry'], dtype='object')"
      ]
     },
     "execution_count": 30,
     "metadata": {},
     "output_type": "execute_result"
    }
   ],
   "source": [
    " gpd.read_file('data/centroids2001.geojson').columns\n",
    "    \n"
   ]
  },
  {
   "cell_type": "code",
   "execution_count": null,
   "id": "dd4402c9",
   "metadata": {},
   "outputs": [
    {
     "name": "stderr",
     "output_type": "stream",
     "text": [
      "For layer 0, using name \"centroids01\"\n",
      "175434 features, 3178644 bytes of geometry, 16 bytes of separate metadata, 1929782 bytes of string pool\n",
      "tile 6/31/20 size is 570318 with detail 12, >500000    \n",
      "tile 6/31/21 size is 636976 with detail 12, >500000    \n",
      "tile 6/31/20 size is 520253 with detail 11, >500000    \n",
      "tile 6/31/21 size is 579801 with detail 11, >500000    \n",
      "tile 6/31/21 size is 504547 with detail 10, >500000    \n",
      "tile 7/63/42 size is 533143 with detail 12, >500000    \n",
      "  99.9%  12/2027/1295  \n",
      "For layer 0, using name \"OA01\"\n",
      "175434 features, 50384833 bytes of geometry, 1041 bytes of separate metadata, 1929782 bytes of string pool\n",
      "  4.4%  0/0/0  \r"
     ]
    }
   ],
   "source": [
    "year = '01'\n",
    "\n",
    "base  = gpd.read_file('data/OA2001.geojson')[['OA01CD', 'geometry']]\n",
    "centroids = gpd.read_file('data/centroids2001.geojson')[['OA01CD','geometry']]\n",
    "\n",
    "base.to_file(\"tmp/OA%s.geojson\"%year, driver=\"GeoJSON\")\n",
    "centroids.to_file(\"tmp/centroids%s.geojson\"%year, driver=\"GeoJSON\")\n",
    "\n",
    "start = 6\n",
    "end = 12\n",
    "# cant have centroids being grouped, but fine for area shapes\n",
    "os.system('tippecanoe -Z%d -z%d -f -r1 -o tiles/centroids%s.mbtiles  ./tmp/centroids%s.geojson'%(start,end,year,year))\n",
    "os.system('tippecanoe -Z%d -z%d -f -o tiles/outputarea%s.mbtiles --drop-densest-as-needed --generate-id ./tmp/OA%s.geojson'%(start,end,year,year))\n",
    "\n",
    "os.system('tile-join -o ./tiles/area_centroids_6_9.mbtiles -f ./tiles/centroids%s.mbtiles ./tiles/outputarea%s.mbtiles'%(year,year))\n",
    "\n",
    "# --generate-id\n",
    "# --coalesce-densest-as-needed\n",
    "\n",
    "# tippecanoe -o tiles/test.mbtiles -Z9 -z10 -f ./data/tile_OA11.geojson ./data/tile_centroids11.geojson\n",
    "\n",
    "\n",
    "# gdf_base = gdf_base.append(df,ignore_index=True)\n",
    "# gdf_base .to_file(\"myfile.gpkg\", layer=\"layer1\", driver=\"GPKG\")"
   ]
  },
  {
   "cell_type": "code",
   "execution_count": null,
   "id": "e4952f58",
   "metadata": {},
   "outputs": [],
   "source": [
    "# base  = gpd.read_file('data/OA2011.geojson')[['OA01CD', 'LAD01CD',\n",
    "#        'geometry']]\n",
    "# centroids = gpd.read_file('data/centroids2011.geojson')[['lsoa01cd', 'geometry']]\n",
    "\n",
    "# base.to_file(\"tmp/OA11.geojson\", driver=\"GeoJSON\")\n",
    "# centroids.to_file(\"tmp/centroids11.geojson\", driver=\"GeoJSON\")\n",
    "\n",
    "# os.system('tippecanoe -Z6 -z9 -f -o tiles/area_centroids_6_9.mbtiles --coalesce-densest-as-needed --generate-id ./tmp/OA%d.geojson ./tmp/centroids%d.geojson'%(11,11))\n",
    "\n",
    "\n"
   ]
  },
  {
   "cell_type": "code",
   "execution_count": null,
   "id": "48462283",
   "metadata": {},
   "outputs": [],
   "source": [
    "# merge\n",
    "os.system('tile-join -o ./tiles/merged.mbtiles -f ./tiles/countries.mbtiles ./tiles/area_centroids_6_9.mbtiles --attribution=ONS')"
   ]
  },
  {
   "cell_type": "code",
   "execution_count": null,
   "id": "fa0d0c6e",
   "metadata": {},
   "outputs": [],
   "source": [
    "# tippecanoe -z3 -o countries-z3.mbtiles --coalesce-densest-as-needed ne_10m_admin_0_countries.geojson\n",
    "# tippecanoe -zg -Z4 -o states-Z4.mbtiles --coalesce-densest-as-needed --extend-zooms-if-still-dropping ne_10m_admin_1_states_provinces.geojson\n",
    "# tile-join -o states-countries.mbtiles countries-z3.mbtiles states-Z4.mbtiles"
   ]
  },
  {
   "cell_type": "code",
   "execution_count": null,
   "id": "732f1266",
   "metadata": {},
   "outputs": [],
   "source": [
    "## convert to static server\n",
    "\n",
    "os.system('rm -rf ./tiles/tileserver; mb-util --image_format=pbf ./tiles/merged.mbtiles ./tiles/tileserver')\n",
    "os.system('cd ./tiles/tileserver && find . -type f | xargs -n1 -P 1 -t -I % gzip -d -r -S .pbf %')\n",
    "os.system('cd ./tiles/tileserver && find . -type f | xargs -n1 -P 1 -t -I % mv % %.pbf')\n"
   ]
  },
  {
   "cell_type": "code",
   "execution_count": null,
   "id": "a45b3a41",
   "metadata": {},
   "outputs": [],
   "source": [
    "os.system(\"git add -A; git commit -m 'recompute tiles'; git push\")"
   ]
  },
  {
   "cell_type": "code",
   "execution_count": null,
   "id": "5e4e06b1",
   "metadata": {},
   "outputs": [],
   "source": []
  },
  {
   "cell_type": "code",
   "execution_count": null,
   "id": "b2663e3f",
   "metadata": {},
   "outputs": [],
   "source": []
  }
 ],
 "metadata": {
  "kernelspec": {
   "display_name": "Python 3 (ipykernel)",
   "language": "python",
   "name": "python3"
  },
  "language_info": {
   "codemirror_mode": {
    "name": "ipython",
    "version": 3
   },
   "file_extension": ".py",
   "mimetype": "text/x-python",
   "name": "python",
   "nbconvert_exporter": "python",
   "pygments_lexer": "ipython3",
   "version": "3.9.7"
  }
 },
 "nbformat": 4,
 "nbformat_minor": 5
}
